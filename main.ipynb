{
 "cells": [
  {
   "cell_type": "code",
   "execution_count": 1,
   "id": "d387894d",
   "metadata": {},
   "outputs": [],
   "source": [
    "import pandas as pd"
   ]
  },
  {
   "cell_type": "code",
   "execution_count": 11,
   "id": "74c53a36",
   "metadata": {},
   "outputs": [],
   "source": [
    "# Data importation\n",
    "\n",
    "df1 = pd.read_excel(r\"C:\\Users\\USER PC\\Desktop\\Resources\\mexico-real-estate-1.xlsx\")\n",
    "df2 = pd.read_excel(r\"C:\\Users\\USER PC\\Desktop\\Resources\\mexico-real-estate-2.xlsx\")\n",
    "df3 = pd.read_excel(r\"C:\\Users\\USER PC\\Desktop\\Resources\\mexico-real-estate-3.xlsx\")\n",
    "\n",
    "dfs = [df1, df2, df3]"
   ]
  },
  {
   "cell_type": "code",
   "execution_count": 12,
   "id": "19b857e3",
   "metadata": {
    "scrolled": true
   },
   "outputs": [
    {
     "name": "stdout",
     "output_type": "stream",
     "text": [
      "<class 'pandas.core.frame.DataFrame'>\n",
      "RangeIndex: 700 entries, 0 to 699\n",
      "Data columns (total 7 columns):\n",
      " #   Column         Non-Null Count  Dtype  \n",
      "---  ------         --------------  -----  \n",
      " 0   Unnamed: 0     700 non-null    int64  \n",
      " 1   property_type  700 non-null    object \n",
      " 2   state          700 non-null    object \n",
      " 3   lat            583 non-null    float64\n",
      " 4   lon            583 non-null    float64\n",
      " 5   area_m2        700 non-null    int64  \n",
      " 6   price_usd      700 non-null    float64\n",
      "dtypes: float64(3), int64(2), object(2)\n",
      "memory usage: 38.4+ KB\n",
      "None\n",
      "\n",
      "   Unnamed: 0 property_type                            state        lat  \\\n",
      "0           1         house                 Estado de México  19.560181   \n",
      "1           2         house                       Nuevo León  25.688436   \n",
      "2           3     apartment                         Guerrero  16.767704   \n",
      "3           4     apartment                         Guerrero  16.829782   \n",
      "4           5         house  Veracruz de Ignacio de la Llave        NaN   \n",
      "\n",
      "          lon  area_m2  price_usd  \n",
      "0  -99.233528      150   67965.56  \n",
      "1 -100.198807      186   63223.78  \n",
      "2  -99.764383       82   84298.37  \n",
      "3  -99.911012      150   94308.80  \n",
      "4         NaN      175   94835.67  \n",
      "\n",
      "<class 'pandas.core.frame.DataFrame'>\n",
      "RangeIndex: 700 entries, 0 to 699\n",
      "Data columns (total 7 columns):\n",
      " #   Column         Non-Null Count  Dtype  \n",
      "---  ------         --------------  -----  \n",
      " 0   Unnamed: 0     700 non-null    int64  \n",
      " 1   property_type  700 non-null    object \n",
      " 2   state          700 non-null    object \n",
      " 3   lat            571 non-null    float64\n",
      " 4   lon            571 non-null    float64\n",
      " 5   area_m2        700 non-null    int64  \n",
      " 6   price_mxn      700 non-null    int64  \n",
      "dtypes: float64(2), int64(3), object(2)\n",
      "memory usage: 38.4+ KB\n",
      "None\n",
      "\n",
      "   Unnamed: 0 property_type       state        lat         lon  area_m2  \\\n",
      "0           1     apartment  Nuevo León  25.721081 -100.345581       72   \n",
      "1           2     apartment      Puebla        NaN         NaN      190   \n",
      "2           3         house     Morelos  23.634501 -102.552788      360   \n",
      "3           4         house     Morelos        NaN         NaN       76   \n",
      "4           5         house      Puebla        NaN         NaN      200   \n",
      "\n",
      "   price_mxn  \n",
      "0    1300000  \n",
      "1    2500000  \n",
      "2    5300000  \n",
      "3     820000  \n",
      "4    1100000  \n",
      "\n",
      "<class 'pandas.core.frame.DataFrame'>\n",
      "RangeIndex: 700 entries, 0 to 699\n",
      "Data columns (total 6 columns):\n",
      " #   Column                   Non-Null Count  Dtype  \n",
      "---  ------                   --------------  -----  \n",
      " 0   Unnamed: 0               700 non-null    int64  \n",
      " 1   property_type            700 non-null    object \n",
      " 2   place_with_parent_names  700 non-null    object \n",
      " 3   lat-lon                  582 non-null    object \n",
      " 4   area_m2                  700 non-null    int64  \n",
      " 5   price_usd                700 non-null    float64\n",
      "dtypes: float64(1), int64(2), object(3)\n",
      "memory usage: 32.9+ KB\n",
      "None\n",
      "\n",
      "   Unnamed: 0 property_type  \\\n",
      "0           1     apartment   \n",
      "1           2         house   \n",
      "2           3         house   \n",
      "3           4         house   \n",
      "4           5     apartment   \n",
      "\n",
      "                             place_with_parent_names                 lat-lon  \\\n",
      "0  |México|Distrito Federal|Gustavo A. Madero|Acu...     19.52589,-99.151703   \n",
      "1           |México|Estado de México|Toluca|Metepec|  19.2640539,-99.5727534   \n",
      "2  |México|Estado de México|Toluca|Toluca de Lerd...    19.268629,-99.671722   \n",
      "3        |México|Morelos|Temixco|Burgos Bugambilias|                     NaN   \n",
      "4  |México|Veracruz de Ignacio de la Llave|Veracruz|    19.511938,-96.871956   \n",
      "\n",
      "   area_m2  price_usd  \n",
      "0       71   48550.59  \n",
      "1      233  168636.73  \n",
      "2      300   86932.69  \n",
      "3      275  263432.41  \n",
      "4       84   68508.67  \n",
      "\n"
     ]
    }
   ],
   "source": [
    "# Data visualization\n",
    "\n",
    "for df in dfs:\n",
    "    print(df.info(), end='\\n\\n')\n",
    "    print(df.head(), end='\\n\\n')"
   ]
  },
  {
   "cell_type": "code",
   "execution_count": null,
   "id": "42bd926a",
   "metadata": {},
   "outputs": [],
   "source": [
    "# Data cleaning\n",
    "\n",
    "for df in dfs:\n",
    "    df.dropna(inplace=True)\n",
    "\n"
   ]
  }
 ],
 "metadata": {
  "kernelspec": {
   "display_name": "Python 3 (ipykernel)",
   "language": "python",
   "name": "python3"
  },
  "language_info": {
   "codemirror_mode": {
    "name": "ipython",
    "version": 3
   },
   "file_extension": ".py",
   "mimetype": "text/x-python",
   "name": "python",
   "nbconvert_exporter": "python",
   "pygments_lexer": "ipython3",
   "version": "3.11.5"
  }
 },
 "nbformat": 4,
 "nbformat_minor": 5
}
